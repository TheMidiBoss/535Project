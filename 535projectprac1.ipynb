{
 "cells": [
  {
   "cell_type": "code",
   "execution_count": 1,
   "id": "459a7199",
   "metadata": {},
   "outputs": [],
   "source": [
    "import pandas as pd\n",
    "import numpy as np\n",
    "import random\n",
    "from sklearn.datasets import load_iris\n",
    "\n",
    "import matplotlib.pyplot as plt\n",
    "import seaborn as sns"
   ]
  },
  {
   "cell_type": "markdown",
   "id": "502bf9ea",
   "metadata": {},
   "source": [
    "## Load Iris Dataset"
   ]
  },
  {
   "cell_type": "code",
   "execution_count": 2,
   "id": "f753e232",
   "metadata": {},
   "outputs": [],
   "source": [
    "iris = load_iris()"
   ]
  },
  {
   "cell_type": "code",
   "execution_count": null,
   "id": "5c583b89",
   "metadata": {},
   "outputs": [],
   "source": []
  },
  {
   "cell_type": "code",
   "execution_count": null,
   "id": "e4fd5ae3",
   "metadata": {},
   "outputs": [],
   "source": []
  },
  {
   "cell_type": "code",
   "execution_count": 3,
   "id": "281e24d7",
   "metadata": {},
   "outputs": [],
   "source": [
    "dataDF = pd.DataFrame(data= np.c_[iris['data'], iris['target']],\n",
    "                     columns= iris['feature_names'] + ['target'])"
   ]
  },
  {
   "cell_type": "code",
   "execution_count": 4,
   "id": "4f7c75cf",
   "metadata": {},
   "outputs": [
    {
     "data": {
      "text/html": [
       "<div>\n",
       "<style scoped>\n",
       "    .dataframe tbody tr th:only-of-type {\n",
       "        vertical-align: middle;\n",
       "    }\n",
       "\n",
       "    .dataframe tbody tr th {\n",
       "        vertical-align: top;\n",
       "    }\n",
       "\n",
       "    .dataframe thead th {\n",
       "        text-align: right;\n",
       "    }\n",
       "</style>\n",
       "<table border=\"1\" class=\"dataframe\">\n",
       "  <thead>\n",
       "    <tr style=\"text-align: right;\">\n",
       "      <th></th>\n",
       "      <th>sepal length (cm)</th>\n",
       "      <th>sepal width (cm)</th>\n",
       "      <th>petal length (cm)</th>\n",
       "      <th>petal width (cm)</th>\n",
       "      <th>target</th>\n",
       "    </tr>\n",
       "  </thead>\n",
       "  <tbody>\n",
       "    <tr>\n",
       "      <th>0</th>\n",
       "      <td>5.1</td>\n",
       "      <td>3.5</td>\n",
       "      <td>1.4</td>\n",
       "      <td>0.2</td>\n",
       "      <td>0.0</td>\n",
       "    </tr>\n",
       "    <tr>\n",
       "      <th>1</th>\n",
       "      <td>4.9</td>\n",
       "      <td>3.0</td>\n",
       "      <td>1.4</td>\n",
       "      <td>0.2</td>\n",
       "      <td>0.0</td>\n",
       "    </tr>\n",
       "    <tr>\n",
       "      <th>2</th>\n",
       "      <td>4.7</td>\n",
       "      <td>3.2</td>\n",
       "      <td>1.3</td>\n",
       "      <td>0.2</td>\n",
       "      <td>0.0</td>\n",
       "    </tr>\n",
       "    <tr>\n",
       "      <th>3</th>\n",
       "      <td>4.6</td>\n",
       "      <td>3.1</td>\n",
       "      <td>1.5</td>\n",
       "      <td>0.2</td>\n",
       "      <td>0.0</td>\n",
       "    </tr>\n",
       "    <tr>\n",
       "      <th>4</th>\n",
       "      <td>5.0</td>\n",
       "      <td>3.6</td>\n",
       "      <td>1.4</td>\n",
       "      <td>0.2</td>\n",
       "      <td>0.0</td>\n",
       "    </tr>\n",
       "  </tbody>\n",
       "</table>\n",
       "</div>"
      ],
      "text/plain": [
       "   sepal length (cm)  sepal width (cm)  petal length (cm)  petal width (cm)  \\\n",
       "0                5.1               3.5                1.4               0.2   \n",
       "1                4.9               3.0                1.4               0.2   \n",
       "2                4.7               3.2                1.3               0.2   \n",
       "3                4.6               3.1                1.5               0.2   \n",
       "4                5.0               3.6                1.4               0.2   \n",
       "\n",
       "   target  \n",
       "0     0.0  \n",
       "1     0.0  \n",
       "2     0.0  \n",
       "3     0.0  \n",
       "4     0.0  "
      ]
     },
     "execution_count": 4,
     "metadata": {},
     "output_type": "execute_result"
    }
   ],
   "source": [
    "dataDF.head()"
   ]
  },
  {
   "cell_type": "markdown",
   "id": "61eca958",
   "metadata": {},
   "source": [
    "# Data Privacy variables\n",
    "## &\n",
    "# Data Privacy Methods"
   ]
  },
  {
   "cell_type": "code",
   "execution_count": 5,
   "id": "e7350fe6",
   "metadata": {},
   "outputs": [],
   "source": [
    "# DP = differnetial Privacy\n",
    "# DP = f(x) + L(0,b)\n",
    "\n",
    "# b = value used to generate random noise\n",
    "# b = Deltaf / epsilon\n",
    "\n",
    "# Deltaf = difference between highest and lowest observations\n",
    "# Deltaf = abs(max(f(x)) - min(f(x)))\n",
    "\n",
    "# epsilon is arbitrary value set by curator\n",
    "# epsilon is between 0 and 1\n",
    "\n",
    "\n"
   ]
  },
  {
   "cell_type": "markdown",
   "id": "bbc40aa1",
   "metadata": {},
   "source": [
    "#### Calculate $\\Delta$ f"
   ]
  },
  {
   "cell_type": "code",
   "execution_count": 6,
   "id": "481ca0c2",
   "metadata": {},
   "outputs": [
    {
     "name": "stdout",
     "output_type": "stream",
     "text": [
      "Δf sepal length: 3.6000000000000005\n",
      "Δf sepal width: 2.4000000000000004\n",
      "Δf petal length: 5.9\n",
      "Δf petal width: 2.4\n"
     ]
    }
   ],
   "source": [
    "deltaf_sepal_length = np.abs(dataDF['sepal length (cm)'].max() - dataDF['sepal length (cm)'].min())\n",
    "deltaf_sepal_width = np.abs(dataDF['sepal width (cm)'].max() - dataDF['sepal width (cm)'].min())\n",
    "deltaf_petal_length = np.abs(dataDF['petal length (cm)'].max() - dataDF['petal length (cm)'].min())\n",
    "deltaf_petal_width = np.abs(dataDF['petal width (cm)'].max() - dataDF['petal width (cm)'].min())\n",
    "\n",
    "\n",
    "print(\"\\u0394f sepal length: {}\".format(deltaf_sepal_length))\n",
    "print(\"\\u0394f sepal width: {}\".format(deltaf_sepal_width))\n",
    "print(\"\\u0394f petal length: {}\".format(deltaf_petal_length))\n",
    "print(\"\\u0394f petal width: {}\".format(deltaf_petal_width))"
   ]
  },
  {
   "cell_type": "markdown",
   "id": "6d109f86",
   "metadata": {},
   "source": [
    "### Choose arbitrary epsilon"
   ]
  },
  {
   "cell_type": "code",
   "execution_count": 7,
   "id": "e5d2e102",
   "metadata": {},
   "outputs": [],
   "source": [
    "epsilon = 0.15"
   ]
  },
  {
   "cell_type": "markdown",
   "id": "45474f6d",
   "metadata": {},
   "source": [
    "### Calculate b"
   ]
  },
  {
   "cell_type": "code",
   "execution_count": 8,
   "id": "07c54c53",
   "metadata": {},
   "outputs": [
    {
     "name": "stdout",
     "output_type": "stream",
     "text": [
      "b sepal length: 24.000000000000004\n",
      "b sepal width: 16.000000000000004\n",
      "b petal length: 39.333333333333336\n",
      "b petal width: 16.0\n"
     ]
    }
   ],
   "source": [
    "# b = value used to generate random noise\n",
    "# b = Deltaf / epsilon\n",
    "b_sepal_length = deltaf_sepal_length / epsilon\n",
    "b_sepal_width = deltaf_sepal_width / epsilon\n",
    "b_petal_length = deltaf_petal_length / epsilon\n",
    "b_petal_width = deltaf_petal_width / epsilon\n",
    "\n",
    "\n",
    "print(\"b sepal length: {}\".format(b_sepal_length))\n",
    "print(\"b sepal width: {}\".format(b_sepal_width))\n",
    "print(\"b petal length: {}\".format(b_petal_length))\n",
    "print(\"b petal width: {}\".format(b_petal_width))"
   ]
  },
  {
   "cell_type": "code",
   "execution_count": 9,
   "id": "e81d2583",
   "metadata": {},
   "outputs": [
    {
     "data": {
      "text/plain": [
       "5.734572225960987"
      ]
     },
     "execution_count": 9,
     "metadata": {},
     "output_type": "execute_result"
    }
   ],
   "source": [
    "random.uniform(0, b_sepal_length)"
   ]
  },
  {
   "cell_type": "code",
   "execution_count": 10,
   "id": "3a86f410",
   "metadata": {},
   "outputs": [
    {
     "name": "stdout",
     "output_type": "stream",
     "text": [
      "laplace_noise_sepal_length: 8.911376125931497\n",
      "laplace_noise_sepal_width: 8.00377983954368\n",
      "laplace_noise_petal_length: 19.864261947135216\n",
      "laplace_noise_petal_width: 9.064298367519044\n"
     ]
    }
   ],
   "source": [
    "laplace_noise_sepal_length = np.random.laplace(loc=(b_sepal_length/2.0), scale=1)\n",
    "laplace_noise_sepal_width = np.random.laplace(loc=(b_sepal_width/2.0), scale=1)\n",
    "laplace_noise_petal_length = np.random.laplace(loc=(b_petal_length/2.0), scale=1)\n",
    "laplace_noise_petal_width = np.random.laplace(loc=(b_petal_width/2.0), scale=1)\n",
    "\n",
    "print(\"laplace_noise_sepal_length: {}\".format(laplace_noise_sepal_length))\n",
    "print(\"laplace_noise_sepal_width: {}\".format(laplace_noise_sepal_width))\n",
    "print(\"laplace_noise_petal_length: {}\".format(laplace_noise_petal_length))\n",
    "print(\"laplace_noise_petal_width: {}\".format(laplace_noise_petal_width))"
   ]
  },
  {
   "cell_type": "code",
   "execution_count": 11,
   "id": "06d44a9c",
   "metadata": {},
   "outputs": [],
   "source": [
    "sepal_length_array = dataDF['sepal length (cm)'].values.tolist()\n",
    "Private_SL_array = [x + laplace_noise_sepal_length for x in sepal_length_array]\n",
    "\n",
    "sepal_width_array = dataDF['sepal width (cm)'].values.tolist()\n",
    "Private_SW_array = [x + laplace_noise_sepal_width for x in sepal_width_array]\n",
    "\n",
    "petal_length_array = dataDF['petal length (cm)'].values.tolist()\n",
    "Private_PL_array = [x + laplace_noise_petal_length for x in petal_length_array]\n",
    "\n",
    "petal_width_array = dataDF['petal width (cm)'].values.tolist()\n",
    "Private_PW_array = [x + laplace_noise_petal_width for x in petal_width_array]\n",
    "\n",
    "\n"
   ]
  },
  {
   "cell_type": "code",
   "execution_count": null,
   "id": "5326ff05",
   "metadata": {},
   "outputs": [],
   "source": []
  },
  {
   "cell_type": "code",
   "execution_count": 12,
   "id": "7603b8fd",
   "metadata": {},
   "outputs": [],
   "source": [
    "\n",
    "private_list_all_data = list(zip(Private_SL_array,Private_SW_array,Private_PL_array,Private_PW_array,))\n",
    "private_column_names = ['Privatized Sepal Length', 'Privatized Sepal Width','Privatized Petal Length','Privatized Petal Width']"
   ]
  },
  {
   "cell_type": "code",
   "execution_count": 13,
   "id": "02aadf5b",
   "metadata": {},
   "outputs": [],
   "source": [
    "privateDF = pd.DataFrame(private_list_all_data,\n",
    "                  columns = private_column_names) "
   ]
  },
  {
   "cell_type": "code",
   "execution_count": 14,
   "id": "b6f26e25",
   "metadata": {},
   "outputs": [
    {
     "data": {
      "text/html": [
       "<div>\n",
       "<style scoped>\n",
       "    .dataframe tbody tr th:only-of-type {\n",
       "        vertical-align: middle;\n",
       "    }\n",
       "\n",
       "    .dataframe tbody tr th {\n",
       "        vertical-align: top;\n",
       "    }\n",
       "\n",
       "    .dataframe thead th {\n",
       "        text-align: right;\n",
       "    }\n",
       "</style>\n",
       "<table border=\"1\" class=\"dataframe\">\n",
       "  <thead>\n",
       "    <tr style=\"text-align: right;\">\n",
       "      <th></th>\n",
       "      <th>Privatized Sepal Length</th>\n",
       "      <th>Privatized Sepal Width</th>\n",
       "      <th>Privatized Petal Length</th>\n",
       "      <th>Privatized Petal Width</th>\n",
       "    </tr>\n",
       "  </thead>\n",
       "  <tbody>\n",
       "    <tr>\n",
       "      <th>0</th>\n",
       "      <td>14.011376</td>\n",
       "      <td>11.50378</td>\n",
       "      <td>21.264262</td>\n",
       "      <td>9.264298</td>\n",
       "    </tr>\n",
       "    <tr>\n",
       "      <th>1</th>\n",
       "      <td>13.811376</td>\n",
       "      <td>11.00378</td>\n",
       "      <td>21.264262</td>\n",
       "      <td>9.264298</td>\n",
       "    </tr>\n",
       "    <tr>\n",
       "      <th>2</th>\n",
       "      <td>13.611376</td>\n",
       "      <td>11.20378</td>\n",
       "      <td>21.164262</td>\n",
       "      <td>9.264298</td>\n",
       "    </tr>\n",
       "    <tr>\n",
       "      <th>3</th>\n",
       "      <td>13.511376</td>\n",
       "      <td>11.10378</td>\n",
       "      <td>21.364262</td>\n",
       "      <td>9.264298</td>\n",
       "    </tr>\n",
       "    <tr>\n",
       "      <th>4</th>\n",
       "      <td>13.911376</td>\n",
       "      <td>11.60378</td>\n",
       "      <td>21.264262</td>\n",
       "      <td>9.264298</td>\n",
       "    </tr>\n",
       "  </tbody>\n",
       "</table>\n",
       "</div>"
      ],
      "text/plain": [
       "   Privatized Sepal Length  Privatized Sepal Width  Privatized Petal Length  \\\n",
       "0                14.011376                11.50378                21.264262   \n",
       "1                13.811376                11.00378                21.264262   \n",
       "2                13.611376                11.20378                21.164262   \n",
       "3                13.511376                11.10378                21.364262   \n",
       "4                13.911376                11.60378                21.264262   \n",
       "\n",
       "   Privatized Petal Width  \n",
       "0                9.264298  \n",
       "1                9.264298  \n",
       "2                9.264298  \n",
       "3                9.264298  \n",
       "4                9.264298  "
      ]
     },
     "execution_count": 14,
     "metadata": {},
     "output_type": "execute_result"
    }
   ],
   "source": [
    "privateDF.head()"
   ]
  },
  {
   "cell_type": "code",
   "execution_count": 15,
   "id": "ee3a4212",
   "metadata": {},
   "outputs": [
    {
     "data": {
      "text/html": [
       "<div>\n",
       "<style scoped>\n",
       "    .dataframe tbody tr th:only-of-type {\n",
       "        vertical-align: middle;\n",
       "    }\n",
       "\n",
       "    .dataframe tbody tr th {\n",
       "        vertical-align: top;\n",
       "    }\n",
       "\n",
       "    .dataframe thead th {\n",
       "        text-align: right;\n",
       "    }\n",
       "</style>\n",
       "<table border=\"1\" class=\"dataframe\">\n",
       "  <thead>\n",
       "    <tr style=\"text-align: right;\">\n",
       "      <th></th>\n",
       "      <th>Privatized Sepal Length</th>\n",
       "      <th>Privatized Sepal Width</th>\n",
       "      <th>Privatized Petal Length</th>\n",
       "      <th>Privatized Petal Width</th>\n",
       "    </tr>\n",
       "  </thead>\n",
       "  <tbody>\n",
       "    <tr>\n",
       "      <th>145</th>\n",
       "      <td>15.611376</td>\n",
       "      <td>11.00378</td>\n",
       "      <td>25.064262</td>\n",
       "      <td>11.364298</td>\n",
       "    </tr>\n",
       "    <tr>\n",
       "      <th>146</th>\n",
       "      <td>15.211376</td>\n",
       "      <td>10.50378</td>\n",
       "      <td>24.864262</td>\n",
       "      <td>10.964298</td>\n",
       "    </tr>\n",
       "    <tr>\n",
       "      <th>147</th>\n",
       "      <td>15.411376</td>\n",
       "      <td>11.00378</td>\n",
       "      <td>25.064262</td>\n",
       "      <td>11.064298</td>\n",
       "    </tr>\n",
       "    <tr>\n",
       "      <th>148</th>\n",
       "      <td>15.111376</td>\n",
       "      <td>11.40378</td>\n",
       "      <td>25.264262</td>\n",
       "      <td>11.364298</td>\n",
       "    </tr>\n",
       "    <tr>\n",
       "      <th>149</th>\n",
       "      <td>14.811376</td>\n",
       "      <td>11.00378</td>\n",
       "      <td>24.964262</td>\n",
       "      <td>10.864298</td>\n",
       "    </tr>\n",
       "  </tbody>\n",
       "</table>\n",
       "</div>"
      ],
      "text/plain": [
       "     Privatized Sepal Length  Privatized Sepal Width  Privatized Petal Length  \\\n",
       "145                15.611376                11.00378                25.064262   \n",
       "146                15.211376                10.50378                24.864262   \n",
       "147                15.411376                11.00378                25.064262   \n",
       "148                15.111376                11.40378                25.264262   \n",
       "149                14.811376                11.00378                24.964262   \n",
       "\n",
       "     Privatized Petal Width  \n",
       "145               11.364298  \n",
       "146               10.964298  \n",
       "147               11.064298  \n",
       "148               11.364298  \n",
       "149               10.864298  "
      ]
     },
     "execution_count": 15,
     "metadata": {},
     "output_type": "execute_result"
    }
   ],
   "source": [
    "privateDF.tail()"
   ]
  },
  {
   "cell_type": "code",
   "execution_count": 16,
   "id": "c97e7b3d",
   "metadata": {},
   "outputs": [
    {
     "name": "stdout",
     "output_type": "stream",
     "text": [
      "Given Sepal Length standard dev: 0.828066127977863\n",
      "Given Sepal Width standard dev: 0.4358662849366982\n",
      "Given Petal Length standard dev: 1.7652982332594662\n",
      "Given Petal Width standard dev: 0.7622376689603465\n"
     ]
    }
   ],
   "source": [
    "SLstddev = dataDF['sepal length (cm)'].std()\n",
    "SWstddev = dataDF['sepal width (cm)'].std()\n",
    "PLstddev = dataDF['petal length (cm)'].std()\n",
    "PWstddev = dataDF['petal width (cm)'].std()\n",
    "print(\"Given Sepal Length standard dev: {}\".format(SLstddev))\n",
    "print(\"Given Sepal Width standard dev: {}\".format(SWstddev))\n",
    "print(\"Given Petal Length standard dev: {}\".format(PLstddev))\n",
    "print(\"Given Petal Width standard dev: {}\".format(PWstddev))"
   ]
  },
  {
   "cell_type": "code",
   "execution_count": 17,
   "id": "2881b712",
   "metadata": {},
   "outputs": [
    {
     "name": "stdout",
     "output_type": "stream",
     "text": [
      "Privatized Sepal Length standard dev: 0.8280661279778629\n",
      "Privatized Sepal Width standard dev: 0.43586628493669827\n",
      "Privatized Petal Length standard dev: 1.7652982332594662\n",
      "Privatized Petal Width standard dev: 0.7622376689603467\n"
     ]
    }
   ],
   "source": [
    "pSLstddev = privateDF['Privatized Sepal Length'].std()\n",
    "pSWstddev = privateDF['Privatized Sepal Width'].std()\n",
    "pPLstddev = privateDF['Privatized Petal Length'].std()\n",
    "pPWstddev = privateDF['Privatized Petal Width'].std()\n",
    "print(\"Privatized Sepal Length standard dev: {}\".format(pSLstddev))\n",
    "print(\"Privatized Sepal Width standard dev: {}\".format(pSWstddev))\n",
    "print(\"Privatized Petal Length standard dev: {}\".format(pPLstddev))\n",
    "print(\"Privatized Petal Width standard dev: {}\".format(pPWstddev))"
   ]
  },
  {
   "cell_type": "code",
   "execution_count": 25,
   "id": "2ee0ef6d",
   "metadata": {},
   "outputs": [
    {
     "name": "stdout",
     "output_type": "stream",
     "text": [
      "Given Sepal Length mean: 5.843333333333334\n",
      "Given Sepal Width mean: 3.0573333333333337\n",
      "Given Petal Length mean: 3.7580000000000005\n",
      "Given Petal Width mean: 1.1993333333333336\n"
     ]
    }
   ],
   "source": [
    "print(\"Given Sepal Length mean: {}\".format(dataDF['sepal length (cm)'].mean()))\n",
    "print(\"Given Sepal Width mean: {}\".format(dataDF['sepal width (cm)'].mean()))\n",
    "print(\"Given Petal Length mean: {}\".format(dataDF['petal length (cm)'].mean()))\n",
    "print(\"Given Petal Width mean: {}\".format(dataDF['petal width (cm)'].mean()))"
   ]
  },
  {
   "cell_type": "code",
   "execution_count": 24,
   "id": "3ad056e6",
   "metadata": {},
   "outputs": [
    {
     "name": "stdout",
     "output_type": "stream",
     "text": [
      "Privatized Sepal Length mean: 14.754709459264829\n",
      "Privatized Sepal Width mean: 11.061113172877015\n",
      "Privatized Petal Length mean: 23.622261947135218\n",
      "Privatized Petal Width mean: 10.263631700852377\n"
     ]
    }
   ],
   "source": [
    "print(\"Privatized Sepal Length mean: {}\".format(privateDF['Privatized Sepal Length'].mean()))\n",
    "print(\"Privatized Sepal Width mean: {}\".format(privateDF['Privatized Sepal Width'].mean()))\n",
    "print(\"Privatized Petal Length mean: {}\".format(privateDF['Privatized Petal Length'].mean()))\n",
    "print(\"Privatized Petal Width mean: {}\".format(privateDF['Privatized Petal Width'].mean()))\n"
   ]
  },
  {
   "cell_type": "code",
   "execution_count": null,
   "id": "ac0ca7a1",
   "metadata": {},
   "outputs": [],
   "source": []
  },
  {
   "cell_type": "code",
   "execution_count": null,
   "id": "6137d2e3",
   "metadata": {},
   "outputs": [],
   "source": []
  },
  {
   "cell_type": "code",
   "execution_count": null,
   "id": "d4a442e0",
   "metadata": {},
   "outputs": [],
   "source": []
  },
  {
   "cell_type": "code",
   "execution_count": null,
   "id": "de59059d",
   "metadata": {},
   "outputs": [],
   "source": []
  },
  {
   "cell_type": "code",
   "execution_count": null,
   "id": "ed508c0f",
   "metadata": {},
   "outputs": [],
   "source": []
  },
  {
   "cell_type": "code",
   "execution_count": null,
   "id": "cea6a0d3",
   "metadata": {},
   "outputs": [],
   "source": []
  },
  {
   "cell_type": "code",
   "execution_count": null,
   "id": "80f5f899",
   "metadata": {},
   "outputs": [],
   "source": []
  },
  {
   "cell_type": "code",
   "execution_count": 18,
   "id": "1efbc973",
   "metadata": {},
   "outputs": [
    {
     "name": "stderr",
     "output_type": "stream",
     "text": [
      "No handles with labels found to put in legend.\n"
     ]
    },
    {
     "data": {
      "image/png": "[encoded data removed]",
      "text/plain": [
       "<Figure size 1280x800 with 1 Axes>"
      ]
     },
     "metadata": {
      "needs_background": "light"
     },
     "output_type": "display_data"
    }
   ],
   "source": [
    "plt.figure(figsize=(16,10), dpi= 80)\n",
    "\n",
    "sns.kdeplot(data=privateDF['Privatized Sepal Length'])\n",
    "plt.title('Title!', fontsize=22)\n",
    "plt.legend()\n",
    "plt.show()"
   ]
  },
  {
   "cell_type": "code",
   "execution_count": 19,
   "id": "2d7876a0",
   "metadata": {},
   "outputs": [
    {
     "data": {
      "text/plain": [
       "<AxesSubplot:ylabel='Density'>"
      ]
     },
     "execution_count": 19,
     "metadata": {},
     "output_type": "execute_result"
    },
    {
     "data": {
      "image/png": "[encoded data removed]",
      "text/plain": [
       "<Figure size 432x288 with 1 Axes>"
      ]
     },
     "metadata": {
      "needs_background": "light"
     },
     "output_type": "display_data"
    }
   ],
   "source": [
    "sns.kdeplot(data=privateDF)"
   ]
  },
  {
   "cell_type": "code",
   "execution_count": 20,
   "id": "9ee41fcb",
   "metadata": {},
   "outputs": [
    {
     "data": {
      "text/plain": [
       "<AxesSubplot:ylabel='Density'>"
      ]
     },
     "execution_count": 20,
     "metadata": {},
     "output_type": "execute_result"
    },
    {
     "data": {
      "image/png": "[encoded data removed]",
      "text/plain": [
       "<Figure size 432x288 with 1 Axes>"
      ]
     },
     "metadata": {
      "needs_background": "light"
     },
     "output_type": "display_data"
    }
   ],
   "source": [
    "sns.kdeplot(data=dataDF)"
   ]
  },
  {
   "cell_type": "code",
   "execution_count": null,
   "id": "c8507159",
   "metadata": {},
   "outputs": [],
   "source": []
  }
 ],
 "metadata": {
  "kernelspec": {
   "display_name": "Python 3",
   "language": "python",
   "name": "python3"
  },
  "language_info": {
   "codemirror_mode": {
    "name": "ipython",
    "version": 3
   },
   "file_extension": ".py",
   "mimetype": "text/x-python",
   "name": "python",
   "nbconvert_exporter": "python",
   "pygments_lexer": "ipython3",
   "version": "3.8.10"
  }
 },
 "nbformat": 4,
 "nbformat_minor": 5
}
