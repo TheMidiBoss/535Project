{
 "cells": [
  {
   "cell_type": "code",
   "execution_count": 66,
   "id": "459a7199",
   "metadata": {},
   "outputs": [],
   "source": [
    "import pandas as pd\n",
    "import numpy as np\n",
    "import random\n",
    "from sklearn.datasets import load_iris\n",
    "\n",
    "import matplotlib.pyplot as plt\n",
    "import seaborn as sns"
   ]
  },
  {
   "cell_type": "code",
   "execution_count": 5,
   "id": "f753e232",
   "metadata": {},
   "outputs": [],
   "source": [
    "iris = load_iris()"
   ]
  },
  {
   "cell_type": "markdown",
   "id": "ba9a83be",
   "metadata": {},
   "source": []
  },
  {
   "cell_type": "code",
   "execution_count": 7,
   "id": "281e24d7",
   "metadata": {},
   "outputs": [],
   "source": [
    "dataDF = pd.DataFrame(data= np.c_[iris['data'], iris['target']],\n",
    "                     columns= iris['feature_names'] + ['target'])"
   ]
  },
  {
   "cell_type": "code",
   "execution_count": 8,
   "id": "4f7c75cf",
   "metadata": {},
   "outputs": [
    {
     "data": {
      "text/html": [
       "<div>\n",
       "<style scoped>\n",
       "    .dataframe tbody tr th:only-of-type {\n",
       "        vertical-align: middle;\n",
       "    }\n",
       "\n",
       "    .dataframe tbody tr th {\n",
       "        vertical-align: top;\n",
       "    }\n",
       "\n",
       "    .dataframe thead th {\n",
       "        text-align: right;\n",
       "    }\n",
       "</style>\n",
       "<table border=\"1\" class=\"dataframe\">\n",
       "  <thead>\n",
       "    <tr style=\"text-align: right;\">\n",
       "      <th></th>\n",
       "      <th>sepal length (cm)</th>\n",
       "      <th>sepal width (cm)</th>\n",
       "      <th>petal length (cm)</th>\n",
       "      <th>petal width (cm)</th>\n",
       "      <th>target</th>\n",
       "    </tr>\n",
       "  </thead>\n",
       "  <tbody>\n",
       "    <tr>\n",
       "      <th>0</th>\n",
       "      <td>5.1</td>\n",
       "      <td>3.5</td>\n",
       "      <td>1.4</td>\n",
       "      <td>0.2</td>\n",
       "      <td>0.0</td>\n",
       "    </tr>\n",
       "    <tr>\n",
       "      <th>1</th>\n",
       "      <td>4.9</td>\n",
       "      <td>3.0</td>\n",
       "      <td>1.4</td>\n",
       "      <td>0.2</td>\n",
       "      <td>0.0</td>\n",
       "    </tr>\n",
       "    <tr>\n",
       "      <th>2</th>\n",
       "      <td>4.7</td>\n",
       "      <td>3.2</td>\n",
       "      <td>1.3</td>\n",
       "      <td>0.2</td>\n",
       "      <td>0.0</td>\n",
       "    </tr>\n",
       "    <tr>\n",
       "      <th>3</th>\n",
       "      <td>4.6</td>\n",
       "      <td>3.1</td>\n",
       "      <td>1.5</td>\n",
       "      <td>0.2</td>\n",
       "      <td>0.0</td>\n",
       "    </tr>\n",
       "    <tr>\n",
       "      <th>4</th>\n",
       "      <td>5.0</td>\n",
       "      <td>3.6</td>\n",
       "      <td>1.4</td>\n",
       "      <td>0.2</td>\n",
       "      <td>0.0</td>\n",
       "    </tr>\n",
       "  </tbody>\n",
       "</table>\n",
       "</div>"
      ],
      "text/plain": [
       "   sepal length (cm)  sepal width (cm)  petal length (cm)  petal width (cm)  \\\n",
       "0                5.1               3.5                1.4               0.2   \n",
       "1                4.9               3.0                1.4               0.2   \n",
       "2                4.7               3.2                1.3               0.2   \n",
       "3                4.6               3.1                1.5               0.2   \n",
       "4                5.0               3.6                1.4               0.2   \n",
       "\n",
       "   target  \n",
       "0     0.0  \n",
       "1     0.0  \n",
       "2     0.0  \n",
       "3     0.0  \n",
       "4     0.0  "
      ]
     },
     "execution_count": 8,
     "metadata": {},
     "output_type": "execute_result"
    }
   ],
   "source": [
    "dataDF.head()"
   ]
  },
  {
   "cell_type": "code",
   "execution_count": 26,
   "id": "62580f61",
   "metadata": {},
   "outputs": [
    {
     "data": {
      "text/html": [
       "<div>\n",
       "<style scoped>\n",
       "    .dataframe tbody tr th:only-of-type {\n",
       "        vertical-align: middle;\n",
       "    }\n",
       "\n",
       "    .dataframe tbody tr th {\n",
       "        vertical-align: top;\n",
       "    }\n",
       "\n",
       "    .dataframe thead th {\n",
       "        text-align: right;\n",
       "    }\n",
       "</style>\n",
       "<table border=\"1\" class=\"dataframe\">\n",
       "  <thead>\n",
       "    <tr style=\"text-align: right;\">\n",
       "      <th></th>\n",
       "      <th>sepal length</th>\n",
       "      <th>sepal width</th>\n",
       "      <th>petal length</th>\n",
       "      <th>petal width</th>\n",
       "      <th>target</th>\n",
       "    </tr>\n",
       "  </thead>\n",
       "  <tbody>\n",
       "    <tr>\n",
       "      <th>0</th>\n",
       "      <td>5.1</td>\n",
       "      <td>3.5</td>\n",
       "      <td>1.4</td>\n",
       "      <td>0.2</td>\n",
       "      <td>0.0</td>\n",
       "    </tr>\n",
       "    <tr>\n",
       "      <th>1</th>\n",
       "      <td>4.9</td>\n",
       "      <td>3.0</td>\n",
       "      <td>1.4</td>\n",
       "      <td>0.2</td>\n",
       "      <td>0.0</td>\n",
       "    </tr>\n",
       "    <tr>\n",
       "      <th>2</th>\n",
       "      <td>4.7</td>\n",
       "      <td>3.2</td>\n",
       "      <td>1.3</td>\n",
       "      <td>0.2</td>\n",
       "      <td>0.0</td>\n",
       "    </tr>\n",
       "    <tr>\n",
       "      <th>3</th>\n",
       "      <td>4.6</td>\n",
       "      <td>3.1</td>\n",
       "      <td>1.5</td>\n",
       "      <td>0.2</td>\n",
       "      <td>0.0</td>\n",
       "    </tr>\n",
       "    <tr>\n",
       "      <th>4</th>\n",
       "      <td>5.0</td>\n",
       "      <td>3.6</td>\n",
       "      <td>1.4</td>\n",
       "      <td>0.2</td>\n",
       "      <td>0.0</td>\n",
       "    </tr>\n",
       "    <tr>\n",
       "      <th>...</th>\n",
       "      <td>...</td>\n",
       "      <td>...</td>\n",
       "      <td>...</td>\n",
       "      <td>...</td>\n",
       "      <td>...</td>\n",
       "    </tr>\n",
       "    <tr>\n",
       "      <th>145</th>\n",
       "      <td>6.7</td>\n",
       "      <td>3.0</td>\n",
       "      <td>5.2</td>\n",
       "      <td>2.3</td>\n",
       "      <td>2.0</td>\n",
       "    </tr>\n",
       "    <tr>\n",
       "      <th>146</th>\n",
       "      <td>6.3</td>\n",
       "      <td>2.5</td>\n",
       "      <td>5.0</td>\n",
       "      <td>1.9</td>\n",
       "      <td>2.0</td>\n",
       "    </tr>\n",
       "    <tr>\n",
       "      <th>147</th>\n",
       "      <td>6.5</td>\n",
       "      <td>3.0</td>\n",
       "      <td>5.2</td>\n",
       "      <td>2.0</td>\n",
       "      <td>2.0</td>\n",
       "    </tr>\n",
       "    <tr>\n",
       "      <th>148</th>\n",
       "      <td>6.2</td>\n",
       "      <td>3.4</td>\n",
       "      <td>5.4</td>\n",
       "      <td>2.3</td>\n",
       "      <td>2.0</td>\n",
       "    </tr>\n",
       "    <tr>\n",
       "      <th>149</th>\n",
       "      <td>5.9</td>\n",
       "      <td>3.0</td>\n",
       "      <td>5.1</td>\n",
       "      <td>1.8</td>\n",
       "      <td>2.0</td>\n",
       "    </tr>\n",
       "  </tbody>\n",
       "</table>\n",
       "<p>150 rows × 5 columns</p>\n",
       "</div>"
      ],
      "text/plain": [
       "     sepal length  sepal width  petal length  petal width  target\n",
       "0             5.1          3.5           1.4          0.2     0.0\n",
       "1             4.9          3.0           1.4          0.2     0.0\n",
       "2             4.7          3.2           1.3          0.2     0.0\n",
       "3             4.6          3.1           1.5          0.2     0.0\n",
       "4             5.0          3.6           1.4          0.2     0.0\n",
       "..            ...          ...           ...          ...     ...\n",
       "145           6.7          3.0           5.2          2.3     2.0\n",
       "146           6.3          2.5           5.0          1.9     2.0\n",
       "147           6.5          3.0           5.2          2.0     2.0\n",
       "148           6.2          3.4           5.4          2.3     2.0\n",
       "149           5.9          3.0           5.1          1.8     2.0\n",
       "\n",
       "[150 rows x 5 columns]"
      ]
     },
     "execution_count": 26,
     "metadata": {},
     "output_type": "execute_result"
    }
   ],
   "source": [
    "dataDF.rename(columns={\"sepal length (cm)\":\"sepal length\",\"sepal width (cm)\":\"sepal width\",\n",
    "                       \"petal length (cm)\":\"petal length\",\"petal width (cm)\":\"petal width\"})"
   ]
  },
  {
   "cell_type": "code",
   "execution_count": 28,
   "id": "772234a4",
   "metadata": {},
   "outputs": [
    {
     "data": {
      "text/html": [
       "<div>\n",
       "<style scoped>\n",
       "    .dataframe tbody tr th:only-of-type {\n",
       "        vertical-align: middle;\n",
       "    }\n",
       "\n",
       "    .dataframe tbody tr th {\n",
       "        vertical-align: top;\n",
       "    }\n",
       "\n",
       "    .dataframe thead th {\n",
       "        text-align: right;\n",
       "    }\n",
       "</style>\n",
       "<table border=\"1\" class=\"dataframe\">\n",
       "  <thead>\n",
       "    <tr style=\"text-align: right;\">\n",
       "      <th></th>\n",
       "      <th>sepal length (cm)</th>\n",
       "      <th>sepal width (cm)</th>\n",
       "      <th>petal length (cm)</th>\n",
       "      <th>petal width (cm)</th>\n",
       "      <th>target</th>\n",
       "    </tr>\n",
       "  </thead>\n",
       "  <tbody>\n",
       "    <tr>\n",
       "      <th>0</th>\n",
       "      <td>5.1</td>\n",
       "      <td>3.5</td>\n",
       "      <td>1.4</td>\n",
       "      <td>0.2</td>\n",
       "      <td>0.0</td>\n",
       "    </tr>\n",
       "    <tr>\n",
       "      <th>1</th>\n",
       "      <td>4.9</td>\n",
       "      <td>3.0</td>\n",
       "      <td>1.4</td>\n",
       "      <td>0.2</td>\n",
       "      <td>0.0</td>\n",
       "    </tr>\n",
       "    <tr>\n",
       "      <th>2</th>\n",
       "      <td>4.7</td>\n",
       "      <td>3.2</td>\n",
       "      <td>1.3</td>\n",
       "      <td>0.2</td>\n",
       "      <td>0.0</td>\n",
       "    </tr>\n",
       "    <tr>\n",
       "      <th>3</th>\n",
       "      <td>4.6</td>\n",
       "      <td>3.1</td>\n",
       "      <td>1.5</td>\n",
       "      <td>0.2</td>\n",
       "      <td>0.0</td>\n",
       "    </tr>\n",
       "    <tr>\n",
       "      <th>4</th>\n",
       "      <td>5.0</td>\n",
       "      <td>3.6</td>\n",
       "      <td>1.4</td>\n",
       "      <td>0.2</td>\n",
       "      <td>0.0</td>\n",
       "    </tr>\n",
       "    <tr>\n",
       "      <th>...</th>\n",
       "      <td>...</td>\n",
       "      <td>...</td>\n",
       "      <td>...</td>\n",
       "      <td>...</td>\n",
       "      <td>...</td>\n",
       "    </tr>\n",
       "    <tr>\n",
       "      <th>145</th>\n",
       "      <td>6.7</td>\n",
       "      <td>3.0</td>\n",
       "      <td>5.2</td>\n",
       "      <td>2.3</td>\n",
       "      <td>2.0</td>\n",
       "    </tr>\n",
       "    <tr>\n",
       "      <th>146</th>\n",
       "      <td>6.3</td>\n",
       "      <td>2.5</td>\n",
       "      <td>5.0</td>\n",
       "      <td>1.9</td>\n",
       "      <td>2.0</td>\n",
       "    </tr>\n",
       "    <tr>\n",
       "      <th>147</th>\n",
       "      <td>6.5</td>\n",
       "      <td>3.0</td>\n",
       "      <td>5.2</td>\n",
       "      <td>2.0</td>\n",
       "      <td>2.0</td>\n",
       "    </tr>\n",
       "    <tr>\n",
       "      <th>148</th>\n",
       "      <td>6.2</td>\n",
       "      <td>3.4</td>\n",
       "      <td>5.4</td>\n",
       "      <td>2.3</td>\n",
       "      <td>2.0</td>\n",
       "    </tr>\n",
       "    <tr>\n",
       "      <th>149</th>\n",
       "      <td>5.9</td>\n",
       "      <td>3.0</td>\n",
       "      <td>5.1</td>\n",
       "      <td>1.8</td>\n",
       "      <td>2.0</td>\n",
       "    </tr>\n",
       "  </tbody>\n",
       "</table>\n",
       "<p>150 rows × 5 columns</p>\n",
       "</div>"
      ],
      "text/plain": [
       "     sepal length (cm)  sepal width (cm)  petal length (cm)  petal width (cm)  \\\n",
       "0                  5.1               3.5                1.4               0.2   \n",
       "1                  4.9               3.0                1.4               0.2   \n",
       "2                  4.7               3.2                1.3               0.2   \n",
       "3                  4.6               3.1                1.5               0.2   \n",
       "4                  5.0               3.6                1.4               0.2   \n",
       "..                 ...               ...                ...               ...   \n",
       "145                6.7               3.0                5.2               2.3   \n",
       "146                6.3               2.5                5.0               1.9   \n",
       "147                6.5               3.0                5.2               2.0   \n",
       "148                6.2               3.4                5.4               2.3   \n",
       "149                5.9               3.0                5.1               1.8   \n",
       "\n",
       "     target  \n",
       "0       0.0  \n",
       "1       0.0  \n",
       "2       0.0  \n",
       "3       0.0  \n",
       "4       0.0  \n",
       "..      ...  \n",
       "145     2.0  \n",
       "146     2.0  \n",
       "147     2.0  \n",
       "148     2.0  \n",
       "149     2.0  \n",
       "\n",
       "[150 rows x 5 columns]"
      ]
     },
     "execution_count": 28,
     "metadata": {},
     "output_type": "execute_result"
    }
   ],
   "source": [
    "dataDF.rename(columns={0:\"sepal length\",1:\"sepal width\",\n",
    "                       2:\"petal length\",3:\"petal width\"})"
   ]
  },
  {
   "cell_type": "markdown",
   "id": "61eca958",
   "metadata": {},
   "source": [
    "# Data Privacy variables\n",
    "## &\n",
    "# Data Privacy Methods"
   ]
  },
  {
   "cell_type": "code",
   "execution_count": null,
   "id": "5377c3d7",
   "metadata": {},
   "outputs": [],
   "source": []
  },
  {
   "cell_type": "markdown",
   "id": "7a7993b0",
   "metadata": {},
   "source": []
  },
  {
   "cell_type": "code",
   "execution_count": 9,
   "id": "e7350fe6",
   "metadata": {},
   "outputs": [],
   "source": [
    "# DP = differnetial Privacy\n",
    "# DP = f(x) + L(0,b)\n",
    "\n",
    "# b = value used to generate random noise\n",
    "# b = Deltaf / epsilon\n",
    "\n",
    "# Deltaf = difference between highest and lowest observations\n",
    "# Deltaf = abs(max(f(x)) - min(f(x)))\n",
    "\n",
    "# epsilon is arbitrary value set by curator\n",
    "# epsilon is between 0 and 1\n",
    "\n",
    "\n"
   ]
  },
  {
   "cell_type": "markdown",
   "id": "bbc40aa1",
   "metadata": {},
   "source": [
    "#### Calculate Delta f"
   ]
  },
  {
   "cell_type": "code",
   "execution_count": 31,
   "id": "5f674aa2",
   "metadata": {},
   "outputs": [
    {
     "data": {
      "text/plain": [
       "Index(['sepal length (cm)', 'sepal width (cm)', 'petal length (cm)',\n",
       "       'petal width (cm)', 'target'],\n",
       "      dtype='object')"
      ]
     },
     "execution_count": 31,
     "metadata": {},
     "output_type": "execute_result"
    }
   ],
   "source": [
    "dataDF.columns"
   ]
  },
  {
   "cell_type": "code",
   "execution_count": 36,
   "id": "481ca0c2",
   "metadata": {},
   "outputs": [
    {
     "name": "stdout",
     "output_type": "stream",
     "text": [
      "Delta f sepal length: 3.6000000000000005\n",
      "Delta f sepal width: 2.4000000000000004\n",
      "Delta f petal length: 5.9\n",
      "Delta f petal width: 2.4\n"
     ]
    }
   ],
   "source": [
    "deltaf_sepal_length = np.abs(dataDF['sepal length (cm)'].max() - dataDF['sepal length (cm)'].min())\n",
    "deltaf_sepal_width = np.abs(dataDF['sepal width (cm)'].max() - dataDF['sepal width (cm)'].min())\n",
    "deltaf_petal_length = np.abs(dataDF['petal length (cm)'].max() - dataDF['petal length (cm)'].min())\n",
    "deltaf_petal_width = np.abs(dataDF['petal width (cm)'].max() - dataDF['petal width (cm)'].min())\n",
    "\n",
    "\n",
    "print(\"Delta f sepal length: {}\".format(deltaf_sepal_length))\n",
    "print(\"Delta f sepal width: {}\".format(deltaf_sepal_width))\n",
    "print(\"Delta f petal length: {}\".format(deltaf_petal_length))\n",
    "print(\"Delta f petal width: {}\".format(deltaf_petal_width))"
   ]
  },
  {
   "cell_type": "markdown",
   "id": "6d109f86",
   "metadata": {},
   "source": [
    "### Choose arbitrary epsilon"
   ]
  },
  {
   "cell_type": "code",
   "execution_count": 37,
   "id": "e5d2e102",
   "metadata": {},
   "outputs": [],
   "source": [
    "epsilon = 0.15"
   ]
  },
  {
   "cell_type": "markdown",
   "id": "45474f6d",
   "metadata": {},
   "source": [
    "### Calculate b"
   ]
  },
  {
   "cell_type": "code",
   "execution_count": 38,
   "id": "07c54c53",
   "metadata": {},
   "outputs": [
    {
     "name": "stdout",
     "output_type": "stream",
     "text": [
      "b sepal length: 24.000000000000004\n",
      "b sepal width: 16.000000000000004\n",
      "b petal length: 39.333333333333336\n",
      "b petal width: 16.0\n"
     ]
    }
   ],
   "source": [
    "# b = value used to generate random noise\n",
    "# b = Deltaf / epsilon\n",
    "b_sepal_length = deltaf_sepal_length / epsilon\n",
    "b_sepal_width = deltaf_sepal_width / epsilon\n",
    "b_petal_length = deltaf_petal_length / epsilon\n",
    "b_petal_width = deltaf_petal_width / epsilon\n",
    "\n",
    "\n",
    "print(\"b sepal length: {}\".format(b_sepal_length))\n",
    "print(\"b sepal width: {}\".format(b_sepal_width))\n",
    "print(\"b petal length: {}\".format(b_petal_length))\n",
    "print(\"b petal width: {}\".format(b_petal_width))"
   ]
  },
  {
   "cell_type": "code",
   "execution_count": null,
   "id": "e81d2583",
   "metadata": {},
   "outputs": [],
   "source": [
    "random.uniform(0, b_sepal_length)"
   ]
  },
  {
   "cell_type": "code",
   "execution_count": 42,
   "id": "3a86f410",
   "metadata": {},
   "outputs": [
    {
     "name": "stdout",
     "output_type": "stream",
     "text": [
      "laplace_noise_sepal_length: 11.778318852835502\n",
      "laplace_noise_sepal_width: 9.63314690782342\n",
      "laplace_noise_petal_length: 20.20080530305709\n",
      "laplace_noise_petal_width: 9.03745747290002\n"
     ]
    }
   ],
   "source": [
    "laplace_noise_sepal_length = np.random.laplace(loc=(b_sepal_length/2.0), scale=1)\n",
    "laplace_noise_sepal_width = np.random.laplace(loc=(b_sepal_width/2.0), scale=1)\n",
    "laplace_noise_petal_length = np.random.laplace(loc=(b_petal_length/2.0), scale=1)\n",
    "laplace_noise_petal_width = np.random.laplace(loc=(b_petal_width/2.0), scale=1)\n",
    "\n",
    "print(\"laplace_noise_sepal_length: {}\".format(laplace_noise_sepal_length))\n",
    "print(\"laplace_noise_sepal_width: {}\".format(laplace_noise_sepal_width))\n",
    "print(\"laplace_noise_petal_length: {}\".format(laplace_noise_petal_length))\n",
    "print(\"laplace_noise_petal_width: {}\".format(laplace_noise_petal_width))"
   ]
  },
  {
   "cell_type": "code",
   "execution_count": 52,
   "id": "06d44a9c",
   "metadata": {},
   "outputs": [],
   "source": [
    "sepal_length_array = dataDF['sepal length (cm)'].values.tolist()\n",
    "Private_SL_array = [x + laplace_noise_sepal_length for x in sepal_length_array]\n",
    "\n",
    "sepal_width_array = dataDF['sepal width (cm)'].values.tolist()\n",
    "Private_SW_array = [x + laplace_noise_sepal_width for x in sepal_width_array]\n",
    "\n",
    "petal_length_array = dataDF['petal length (cm)'].values.tolist()\n",
    "Private_PL_array = [x + laplace_noise_petal_length for x in petal_length_array]\n",
    "\n",
    "petal_width_array = dataDF['petal width (cm)'].values.tolist()\n",
    "Private_PW_array = [x + laplace_noise_petal_width for x in petal_width_array]\n",
    "\n",
    "\n"
   ]
  },
  {
   "cell_type": "code",
   "execution_count": 58,
   "id": "5326ff05",
   "metadata": {},
   "outputs": [
    {
     "data": {
      "text/html": [
       "<div>\n",
       "<style scoped>\n",
       "    .dataframe tbody tr th:only-of-type {\n",
       "        vertical-align: middle;\n",
       "    }\n",
       "\n",
       "    .dataframe tbody tr th {\n",
       "        vertical-align: top;\n",
       "    }\n",
       "\n",
       "    .dataframe thead th {\n",
       "        text-align: right;\n",
       "    }\n",
       "</style>\n",
       "<table border=\"1\" class=\"dataframe\">\n",
       "  <thead>\n",
       "    <tr style=\"text-align: right;\">\n",
       "      <th></th>\n",
       "      <th>Privatized Sepal Length</th>\n",
       "      <th>Privatized Sepal Width</th>\n",
       "      <th>Privatized Petal Length</th>\n",
       "      <th>Privatized Petal Width</th>\n",
       "    </tr>\n",
       "  </thead>\n",
       "  <tbody>\n",
       "    <tr>\n",
       "      <th>0</th>\n",
       "      <td>[16.878318852835502, 16.678318852835503, 16.47...</td>\n",
       "      <td>[13.13314690782342, 12.63314690782342, 12.8331...</td>\n",
       "      <td>[21.60080530305709, 21.60080530305709, 21.5008...</td>\n",
       "      <td>[9.237457472900019, 9.237457472900019, 9.23745...</td>\n",
       "    </tr>\n",
       "  </tbody>\n",
       "</table>\n",
       "</div>"
      ],
      "text/plain": [
       "                             Privatized Sepal Length  \\\n",
       "0  [16.878318852835502, 16.678318852835503, 16.47...   \n",
       "\n",
       "                              Privatized Sepal Width  \\\n",
       "0  [13.13314690782342, 12.63314690782342, 12.8331...   \n",
       "\n",
       "                             Privatized Petal Length  \\\n",
       "0  [21.60080530305709, 21.60080530305709, 21.5008...   \n",
       "\n",
       "                              Privatized Petal Width  \n",
       "0  [9.237457472900019, 9.237457472900019, 9.23745...  "
      ]
     },
     "execution_count": 58,
     "metadata": {},
     "output_type": "execute_result"
    }
   ],
   "source": []
  },
  {
   "cell_type": "code",
   "execution_count": 62,
   "id": "7603b8fd",
   "metadata": {},
   "outputs": [],
   "source": [
    "\n",
    "private_list_all_data = list(zip(Private_SL_array,Private_SW_array,Private_PL_array,Private_PW_array,))\n",
    "private_column_names = ['Privatized Sepal Length', 'Privatized Sepal Width','Privatized Petal Length','Privatized Petal Width']"
   ]
  },
  {
   "cell_type": "code",
   "execution_count": 63,
   "id": "02aadf5b",
   "metadata": {},
   "outputs": [],
   "source": [
    "privateDF = pd.DataFrame(private_list_all_data,\n",
    "                  columns = private_column_names) "
   ]
  },
  {
   "cell_type": "code",
   "execution_count": 64,
   "id": "b6f26e25",
   "metadata": {},
   "outputs": [
    {
     "data": {
      "text/html": [
       "<div>\n",
       "<style scoped>\n",
       "    .dataframe tbody tr th:only-of-type {\n",
       "        vertical-align: middle;\n",
       "    }\n",
       "\n",
       "    .dataframe tbody tr th {\n",
       "        vertical-align: top;\n",
       "    }\n",
       "\n",
       "    .dataframe thead th {\n",
       "        text-align: right;\n",
       "    }\n",
       "</style>\n",
       "<table border=\"1\" class=\"dataframe\">\n",
       "  <thead>\n",
       "    <tr style=\"text-align: right;\">\n",
       "      <th></th>\n",
       "      <th>Privatized Sepal Length</th>\n",
       "      <th>Privatized Sepal Width</th>\n",
       "      <th>Privatized Petal Length</th>\n",
       "      <th>Privatized Petal Width</th>\n",
       "    </tr>\n",
       "  </thead>\n",
       "  <tbody>\n",
       "    <tr>\n",
       "      <th>0</th>\n",
       "      <td>16.878319</td>\n",
       "      <td>13.133147</td>\n",
       "      <td>21.600805</td>\n",
       "      <td>9.237457</td>\n",
       "    </tr>\n",
       "    <tr>\n",
       "      <th>1</th>\n",
       "      <td>16.678319</td>\n",
       "      <td>12.633147</td>\n",
       "      <td>21.600805</td>\n",
       "      <td>9.237457</td>\n",
       "    </tr>\n",
       "    <tr>\n",
       "      <th>2</th>\n",
       "      <td>16.478319</td>\n",
       "      <td>12.833147</td>\n",
       "      <td>21.500805</td>\n",
       "      <td>9.237457</td>\n",
       "    </tr>\n",
       "    <tr>\n",
       "      <th>3</th>\n",
       "      <td>16.378319</td>\n",
       "      <td>12.733147</td>\n",
       "      <td>21.700805</td>\n",
       "      <td>9.237457</td>\n",
       "    </tr>\n",
       "    <tr>\n",
       "      <th>4</th>\n",
       "      <td>16.778319</td>\n",
       "      <td>13.233147</td>\n",
       "      <td>21.600805</td>\n",
       "      <td>9.237457</td>\n",
       "    </tr>\n",
       "  </tbody>\n",
       "</table>\n",
       "</div>"
      ],
      "text/plain": [
       "   Privatized Sepal Length  Privatized Sepal Width  Privatized Petal Length  \\\n",
       "0                16.878319               13.133147                21.600805   \n",
       "1                16.678319               12.633147                21.600805   \n",
       "2                16.478319               12.833147                21.500805   \n",
       "3                16.378319               12.733147                21.700805   \n",
       "4                16.778319               13.233147                21.600805   \n",
       "\n",
       "   Privatized Petal Width  \n",
       "0                9.237457  \n",
       "1                9.237457  \n",
       "2                9.237457  \n",
       "3                9.237457  \n",
       "4                9.237457  "
      ]
     },
     "execution_count": 64,
     "metadata": {},
     "output_type": "execute_result"
    }
   ],
   "source": [
    "privateDF.head()"
   ]
  },
  {
   "cell_type": "code",
   "execution_count": 65,
   "id": "ee3a4212",
   "metadata": {},
   "outputs": [
    {
     "data": {
      "text/html": [
       "<div>\n",
       "<style scoped>\n",
       "    .dataframe tbody tr th:only-of-type {\n",
       "        vertical-align: middle;\n",
       "    }\n",
       "\n",
       "    .dataframe tbody tr th {\n",
       "        vertical-align: top;\n",
       "    }\n",
       "\n",
       "    .dataframe thead th {\n",
       "        text-align: right;\n",
       "    }\n",
       "</style>\n",
       "<table border=\"1\" class=\"dataframe\">\n",
       "  <thead>\n",
       "    <tr style=\"text-align: right;\">\n",
       "      <th></th>\n",
       "      <th>Privatized Sepal Length</th>\n",
       "      <th>Privatized Sepal Width</th>\n",
       "      <th>Privatized Petal Length</th>\n",
       "      <th>Privatized Petal Width</th>\n",
       "    </tr>\n",
       "  </thead>\n",
       "  <tbody>\n",
       "    <tr>\n",
       "      <th>145</th>\n",
       "      <td>18.478319</td>\n",
       "      <td>12.633147</td>\n",
       "      <td>25.400805</td>\n",
       "      <td>11.337457</td>\n",
       "    </tr>\n",
       "    <tr>\n",
       "      <th>146</th>\n",
       "      <td>18.078319</td>\n",
       "      <td>12.133147</td>\n",
       "      <td>25.200805</td>\n",
       "      <td>10.937457</td>\n",
       "    </tr>\n",
       "    <tr>\n",
       "      <th>147</th>\n",
       "      <td>18.278319</td>\n",
       "      <td>12.633147</td>\n",
       "      <td>25.400805</td>\n",
       "      <td>11.037457</td>\n",
       "    </tr>\n",
       "    <tr>\n",
       "      <th>148</th>\n",
       "      <td>17.978319</td>\n",
       "      <td>13.033147</td>\n",
       "      <td>25.600805</td>\n",
       "      <td>11.337457</td>\n",
       "    </tr>\n",
       "    <tr>\n",
       "      <th>149</th>\n",
       "      <td>17.678319</td>\n",
       "      <td>12.633147</td>\n",
       "      <td>25.300805</td>\n",
       "      <td>10.837457</td>\n",
       "    </tr>\n",
       "  </tbody>\n",
       "</table>\n",
       "</div>"
      ],
      "text/plain": [
       "     Privatized Sepal Length  Privatized Sepal Width  Privatized Petal Length  \\\n",
       "145                18.478319               12.633147                25.400805   \n",
       "146                18.078319               12.133147                25.200805   \n",
       "147                18.278319               12.633147                25.400805   \n",
       "148                17.978319               13.033147                25.600805   \n",
       "149                17.678319               12.633147                25.300805   \n",
       "\n",
       "     Privatized Petal Width  \n",
       "145               11.337457  \n",
       "146               10.937457  \n",
       "147               11.037457  \n",
       "148               11.337457  \n",
       "149               10.837457  "
      ]
     },
     "execution_count": 65,
     "metadata": {},
     "output_type": "execute_result"
    }
   ],
   "source": [
    "privateDF.tail()"
   ]
  },
  {
   "cell_type": "code",
   "execution_count": 90,
   "id": "c97e7b3d",
   "metadata": {},
   "outputs": [
    {
     "name": "stdout",
     "output_type": "stream",
     "text": [
      "Given Sepal Length standard dev: 0.828066127977863\n",
      "Given Sepal Width standard dev: 0.4358662849366982\n",
      "Given Petal Length standard dev: 1.7652982332594662\n",
      "Given Petal Width standard dev: 0.7622376689603465\n"
     ]
    }
   ],
   "source": [
    "SLstddev = dataDF['sepal length (cm)'].std()\n",
    "SWstddev = dataDF['sepal width (cm)'].std()\n",
    "PLstddev = dataDF['petal length (cm)'].std()\n",
    "PWstddev = dataDF['petal width (cm)'].std()\n",
    "print(\"Given Sepal Length standard dev: {}\".format(SLstddev))\n",
    "print(\"Given Sepal Width standard dev: {}\".format(SWstddev))\n",
    "print(\"Given Petal Length standard dev: {}\".format(PLstddev))\n",
    "print(\"Given Petal Width standard dev: {}\".format(PWstddev))"
   ]
  },
  {
   "cell_type": "code",
   "execution_count": 88,
   "id": "2881b712",
   "metadata": {},
   "outputs": [
    {
     "name": "stdout",
     "output_type": "stream",
     "text": [
      "Privatized Sepal Length standard dev: 0.828066127977863\n",
      "Privatized Sepal Width standard dev: 0.4358662849366982\n",
      "Privatized Petal Length standard dev: 1.7652982332594662\n",
      "Privatized Petal Width standard dev: 0.7622376689603467\n"
     ]
    }
   ],
   "source": [
    "pSLstddev = privateDF['Privatized Sepal Length'].std()\n",
    "pSWstddev = privateDF['Privatized Sepal Width'].std()\n",
    "pPLstddev = privateDF['Privatized Petal Length'].std()\n",
    "pPWstddev = privateDF['Privatized Petal Width'].std()\n",
    "print(\"Privatized Sepal Length standard dev: {}\".format(pSLstddev))\n",
    "print(\"Privatized Sepal Width standard dev: {}\".format(pSWstddev))\n",
    "print(\"Privatized Petal Length standard dev: {}\".format(pPLstddev))\n",
    "print(\"Privatized Petal Width standard dev: {}\".format(pPWstddev))"
   ]
  },
  {
   "cell_type": "code",
   "execution_count": null,
   "id": "3ad056e6",
   "metadata": {},
   "outputs": [],
   "source": []
  },
  {
   "cell_type": "code",
   "execution_count": null,
   "id": "ac0ca7a1",
   "metadata": {},
   "outputs": [],
   "source": []
  },
  {
   "cell_type": "code",
   "execution_count": null,
   "id": "6137d2e3",
   "metadata": {},
   "outputs": [],
   "source": []
  },
  {
   "cell_type": "code",
   "execution_count": null,
   "id": "d4a442e0",
   "metadata": {},
   "outputs": [],
   "source": []
  },
  {
   "cell_type": "code",
   "execution_count": null,
   "id": "de59059d",
   "metadata": {},
   "outputs": [],
   "source": []
  },
  {
   "cell_type": "code",
   "execution_count": null,
   "id": "ed508c0f",
   "metadata": {},
   "outputs": [],
   "source": []
  },
  {
   "cell_type": "code",
   "execution_count": null,
   "id": "cea6a0d3",
   "metadata": {},
   "outputs": [],
   "source": []
  },
  {
   "cell_type": "code",
   "execution_count": null,
   "id": "80f5f899",
   "metadata": {},
   "outputs": [],
   "source": []
  },
  {
   "cell_type": "code",
   "execution_count": 72,
   "id": "1efbc973",
   "metadata": {},
   "outputs": [
    {
     "name": "stderr",
     "output_type": "stream",
     "text": [
      "No handles with labels found to put in legend.\n"
     ]
    },
    {
     "data": {
      "image/png": "[encoded data removed]",
      "text/plain": [
       "<Figure size 1280x800 with 1 Axes>"
      ]
     },
     "metadata": {
      "needs_background": "light"
     },
     "output_type": "display_data"
    }
   ],
   "source": [
    "plt.figure(figsize=(16,10), dpi= 80)\n",
    "\n",
    "sns.kdeplot(data=privateDF['Privatized Sepal Length'])\n",
    "plt.title('Title!', fontsize=22)\n",
    "plt.legend()\n",
    "plt.show()"
   ]
  },
  {
   "cell_type": "code",
   "execution_count": 73,
   "id": "2d7876a0",
   "metadata": {},
   "outputs": [
    {
     "data": {
      "text/plain": [
       "<AxesSubplot:ylabel='Density'>"
      ]
     },
     "execution_count": 73,
     "metadata": {},
     "output_type": "execute_result"
    },
    {
     "data": {
      "image/png": "[encoded data removed]",
      "text/plain": [
       "<Figure size 432x288 with 1 Axes>"
      ]
     },
     "metadata": {
      "needs_background": "light"
     },
     "output_type": "display_data"
    }
   ],
   "source": [
    "sns.kdeplot(data=privateDF)"
   ]
  },
  {
   "cell_type": "code",
   "execution_count": 77,
   "id": "9ee41fcb",
   "metadata": {},
   "outputs": [
    {
     "data": {
      "text/plain": [
       "<AxesSubplot:ylabel='Density'>"
      ]
     },
     "execution_count": 77,
     "metadata": {},
     "output_type": "execute_result"
    },
    {
     "data": {
      "image/png": "[encoded data removed]",
      "text/plain": [
       "<Figure size 432x288 with 1 Axes>"
      ]
     },
     "metadata": {
      "needs_background": "light"
     },
     "output_type": "display_data"
    }
   ],
   "source": [
    "sns.kdeplot(data=dataDF)"
   ]
  },
  {
   "cell_type": "code",
   "execution_count": null,
   "id": "c8507159",
   "metadata": {},
   "outputs": [],
   "source": []
  }
 ],
 "metadata": {
  "kernelspec": {
   "display_name": "Python 3",
   "language": "python",
   "name": "python3"
  },
  "language_info": {
   "codemirror_mode": {
    "name": "ipython",
    "version": 3
   },
   "file_extension": ".py",
   "mimetype": "text/x-python",
   "name": "python",
   "nbconvert_exporter": "python",
   "pygments_lexer": "ipython3",
   "version": "3.8.10"
  }
 },
 "nbformat": 4,
 "nbformat_minor": 5
}
